{
 "cells": [
  {
   "cell_type": "code",
   "execution_count": 2,
   "id": "bf928cb3",
   "metadata": {},
   "outputs": [],
   "source": [
    "import pandas as pd\n",
    "import yfinance as yf\n",
    "import numpy as np"
   ]
  },
  {
   "cell_type": "code",
   "execution_count": 3,
   "id": "7b5b1815",
   "metadata": {},
   "outputs": [
    {
     "name": "stdout",
     "output_type": "stream",
     "text": [
      "[*********************100%***********************]  1 of 1 completed\n"
     ]
    }
   ],
   "source": [
    "df=yf.download('AAPL',period='5y')"
   ]
  },
  {
   "cell_type": "code",
   "execution_count": 4,
   "id": "b7216e2a",
   "metadata": {},
   "outputs": [
    {
     "data": {
      "text/html": [
       "<div>\n",
       "<style scoped>\n",
       "    .dataframe tbody tr th:only-of-type {\n",
       "        vertical-align: middle;\n",
       "    }\n",
       "\n",
       "    .dataframe tbody tr th {\n",
       "        vertical-align: top;\n",
       "    }\n",
       "\n",
       "    .dataframe thead th {\n",
       "        text-align: right;\n",
       "    }\n",
       "</style>\n",
       "<table border=\"1\" class=\"dataframe\">\n",
       "  <thead>\n",
       "    <tr style=\"text-align: right;\">\n",
       "      <th></th>\n",
       "      <th>Open</th>\n",
       "      <th>High</th>\n",
       "      <th>Low</th>\n",
       "      <th>Close</th>\n",
       "      <th>Adj Close</th>\n",
       "      <th>Volume</th>\n",
       "    </tr>\n",
       "    <tr>\n",
       "      <th>Date</th>\n",
       "      <th></th>\n",
       "      <th></th>\n",
       "      <th></th>\n",
       "      <th></th>\n",
       "      <th></th>\n",
       "      <th></th>\n",
       "    </tr>\n",
       "  </thead>\n",
       "  <tbody>\n",
       "    <tr>\n",
       "      <th>2018-07-06</th>\n",
       "      <td>46.355000</td>\n",
       "      <td>47.107498</td>\n",
       "      <td>46.299999</td>\n",
       "      <td>46.992500</td>\n",
       "      <td>44.909573</td>\n",
       "      <td>69940800</td>\n",
       "    </tr>\n",
       "    <tr>\n",
       "      <th>2018-07-09</th>\n",
       "      <td>47.375000</td>\n",
       "      <td>47.669998</td>\n",
       "      <td>47.325001</td>\n",
       "      <td>47.645000</td>\n",
       "      <td>45.533150</td>\n",
       "      <td>79026400</td>\n",
       "    </tr>\n",
       "    <tr>\n",
       "      <th>2018-07-10</th>\n",
       "      <td>47.677502</td>\n",
       "      <td>47.820000</td>\n",
       "      <td>47.544998</td>\n",
       "      <td>47.587502</td>\n",
       "      <td>45.478199</td>\n",
       "      <td>63756400</td>\n",
       "    </tr>\n",
       "    <tr>\n",
       "      <th>2018-07-11</th>\n",
       "      <td>47.125000</td>\n",
       "      <td>47.445000</td>\n",
       "      <td>46.902500</td>\n",
       "      <td>46.970001</td>\n",
       "      <td>44.888062</td>\n",
       "      <td>75326000</td>\n",
       "    </tr>\n",
       "    <tr>\n",
       "      <th>2018-07-12</th>\n",
       "      <td>47.382500</td>\n",
       "      <td>47.852501</td>\n",
       "      <td>47.327499</td>\n",
       "      <td>47.757500</td>\n",
       "      <td>45.640663</td>\n",
       "      <td>72164400</td>\n",
       "    </tr>\n",
       "  </tbody>\n",
       "</table>\n",
       "</div>"
      ],
      "text/plain": [
       "                 Open       High        Low      Close  Adj Close    Volume\n",
       "Date                                                                       \n",
       "2018-07-06  46.355000  47.107498  46.299999  46.992500  44.909573  69940800\n",
       "2018-07-09  47.375000  47.669998  47.325001  47.645000  45.533150  79026400\n",
       "2018-07-10  47.677502  47.820000  47.544998  47.587502  45.478199  63756400\n",
       "2018-07-11  47.125000  47.445000  46.902500  46.970001  44.888062  75326000\n",
       "2018-07-12  47.382500  47.852501  47.327499  47.757500  45.640663  72164400"
      ]
     },
     "execution_count": 4,
     "metadata": {},
     "output_type": "execute_result"
    }
   ],
   "source": [
    "df.head()"
   ]
  },
  {
   "cell_type": "code",
   "execution_count": 5,
   "id": "46f5dfc9",
   "metadata": {},
   "outputs": [
    {
     "data": {
      "text/html": [
       "<div>\n",
       "<style scoped>\n",
       "    .dataframe tbody tr th:only-of-type {\n",
       "        vertical-align: middle;\n",
       "    }\n",
       "\n",
       "    .dataframe tbody tr th {\n",
       "        vertical-align: top;\n",
       "    }\n",
       "\n",
       "    .dataframe thead th {\n",
       "        text-align: right;\n",
       "    }\n",
       "</style>\n",
       "<table border=\"1\" class=\"dataframe\">\n",
       "  <thead>\n",
       "    <tr style=\"text-align: right;\">\n",
       "      <th></th>\n",
       "      <th>Open</th>\n",
       "      <th>High</th>\n",
       "      <th>Low</th>\n",
       "      <th>Close</th>\n",
       "      <th>Adj Close</th>\n",
       "      <th>Volume</th>\n",
       "    </tr>\n",
       "    <tr>\n",
       "      <th>Date</th>\n",
       "      <th></th>\n",
       "      <th></th>\n",
       "      <th></th>\n",
       "      <th></th>\n",
       "      <th></th>\n",
       "      <th></th>\n",
       "    </tr>\n",
       "  </thead>\n",
       "  <tbody>\n",
       "    <tr>\n",
       "      <th>2023-06-28</th>\n",
       "      <td>187.929993</td>\n",
       "      <td>189.899994</td>\n",
       "      <td>187.600006</td>\n",
       "      <td>189.250000</td>\n",
       "      <td>189.250000</td>\n",
       "      <td>51216800</td>\n",
       "    </tr>\n",
       "    <tr>\n",
       "      <th>2023-06-29</th>\n",
       "      <td>189.080002</td>\n",
       "      <td>190.070007</td>\n",
       "      <td>188.940002</td>\n",
       "      <td>189.589996</td>\n",
       "      <td>189.589996</td>\n",
       "      <td>46347300</td>\n",
       "    </tr>\n",
       "    <tr>\n",
       "      <th>2023-06-30</th>\n",
       "      <td>191.630005</td>\n",
       "      <td>194.479996</td>\n",
       "      <td>191.259995</td>\n",
       "      <td>193.970001</td>\n",
       "      <td>193.970001</td>\n",
       "      <td>85069600</td>\n",
       "    </tr>\n",
       "    <tr>\n",
       "      <th>2023-07-03</th>\n",
       "      <td>193.779999</td>\n",
       "      <td>193.880005</td>\n",
       "      <td>191.759995</td>\n",
       "      <td>192.460007</td>\n",
       "      <td>192.460007</td>\n",
       "      <td>31458200</td>\n",
       "    </tr>\n",
       "    <tr>\n",
       "      <th>2023-07-05</th>\n",
       "      <td>191.565002</td>\n",
       "      <td>192.979996</td>\n",
       "      <td>190.619995</td>\n",
       "      <td>191.330002</td>\n",
       "      <td>191.330002</td>\n",
       "      <td>46358709</td>\n",
       "    </tr>\n",
       "  </tbody>\n",
       "</table>\n",
       "</div>"
      ],
      "text/plain": [
       "                  Open        High         Low       Close   Adj Close  \\\n",
       "Date                                                                     \n",
       "2023-06-28  187.929993  189.899994  187.600006  189.250000  189.250000   \n",
       "2023-06-29  189.080002  190.070007  188.940002  189.589996  189.589996   \n",
       "2023-06-30  191.630005  194.479996  191.259995  193.970001  193.970001   \n",
       "2023-07-03  193.779999  193.880005  191.759995  192.460007  192.460007   \n",
       "2023-07-05  191.565002  192.979996  190.619995  191.330002  191.330002   \n",
       "\n",
       "              Volume  \n",
       "Date                  \n",
       "2023-06-28  51216800  \n",
       "2023-06-29  46347300  \n",
       "2023-06-30  85069600  \n",
       "2023-07-03  31458200  \n",
       "2023-07-05  46358709  "
      ]
     },
     "execution_count": 5,
     "metadata": {},
     "output_type": "execute_result"
    }
   ],
   "source": [
    "df.tail()"
   ]
  },
  {
   "cell_type": "code",
   "execution_count": 6,
   "id": "b521b790",
   "metadata": {},
   "outputs": [],
   "source": [
    "df['simple_return']=(df['Adj Close']/df['Adj Close'].shift(1))-1 ## today's price/yesterday price -1"
   ]
  },
  {
   "cell_type": "code",
   "execution_count": 7,
   "id": "5b9c7d57",
   "metadata": {},
   "outputs": [
    {
     "data": {
      "text/html": [
       "<div>\n",
       "<style scoped>\n",
       "    .dataframe tbody tr th:only-of-type {\n",
       "        vertical-align: middle;\n",
       "    }\n",
       "\n",
       "    .dataframe tbody tr th {\n",
       "        vertical-align: top;\n",
       "    }\n",
       "\n",
       "    .dataframe thead th {\n",
       "        text-align: right;\n",
       "    }\n",
       "</style>\n",
       "<table border=\"1\" class=\"dataframe\">\n",
       "  <thead>\n",
       "    <tr style=\"text-align: right;\">\n",
       "      <th></th>\n",
       "      <th>Open</th>\n",
       "      <th>High</th>\n",
       "      <th>Low</th>\n",
       "      <th>Close</th>\n",
       "      <th>Adj Close</th>\n",
       "      <th>Volume</th>\n",
       "      <th>simple_return</th>\n",
       "    </tr>\n",
       "    <tr>\n",
       "      <th>Date</th>\n",
       "      <th></th>\n",
       "      <th></th>\n",
       "      <th></th>\n",
       "      <th></th>\n",
       "      <th></th>\n",
       "      <th></th>\n",
       "      <th></th>\n",
       "    </tr>\n",
       "  </thead>\n",
       "  <tbody>\n",
       "    <tr>\n",
       "      <th>2018-07-06</th>\n",
       "      <td>46.355000</td>\n",
       "      <td>47.107498</td>\n",
       "      <td>46.299999</td>\n",
       "      <td>46.992500</td>\n",
       "      <td>44.909573</td>\n",
       "      <td>69940800</td>\n",
       "      <td>NaN</td>\n",
       "    </tr>\n",
       "    <tr>\n",
       "      <th>2018-07-09</th>\n",
       "      <td>47.375000</td>\n",
       "      <td>47.669998</td>\n",
       "      <td>47.325001</td>\n",
       "      <td>47.645000</td>\n",
       "      <td>45.533150</td>\n",
       "      <td>79026400</td>\n",
       "      <td>0.013885</td>\n",
       "    </tr>\n",
       "    <tr>\n",
       "      <th>2018-07-10</th>\n",
       "      <td>47.677502</td>\n",
       "      <td>47.820000</td>\n",
       "      <td>47.544998</td>\n",
       "      <td>47.587502</td>\n",
       "      <td>45.478199</td>\n",
       "      <td>63756400</td>\n",
       "      <td>-0.001207</td>\n",
       "    </tr>\n",
       "    <tr>\n",
       "      <th>2018-07-11</th>\n",
       "      <td>47.125000</td>\n",
       "      <td>47.445000</td>\n",
       "      <td>46.902500</td>\n",
       "      <td>46.970001</td>\n",
       "      <td>44.888062</td>\n",
       "      <td>75326000</td>\n",
       "      <td>-0.012976</td>\n",
       "    </tr>\n",
       "    <tr>\n",
       "      <th>2018-07-12</th>\n",
       "      <td>47.382500</td>\n",
       "      <td>47.852501</td>\n",
       "      <td>47.327499</td>\n",
       "      <td>47.757500</td>\n",
       "      <td>45.640663</td>\n",
       "      <td>72164400</td>\n",
       "      <td>0.016766</td>\n",
       "    </tr>\n",
       "  </tbody>\n",
       "</table>\n",
       "</div>"
      ],
      "text/plain": [
       "                 Open       High        Low      Close  Adj Close    Volume  \\\n",
       "Date                                                                          \n",
       "2018-07-06  46.355000  47.107498  46.299999  46.992500  44.909573  69940800   \n",
       "2018-07-09  47.375000  47.669998  47.325001  47.645000  45.533150  79026400   \n",
       "2018-07-10  47.677502  47.820000  47.544998  47.587502  45.478199  63756400   \n",
       "2018-07-11  47.125000  47.445000  46.902500  46.970001  44.888062  75326000   \n",
       "2018-07-12  47.382500  47.852501  47.327499  47.757500  45.640663  72164400   \n",
       "\n",
       "            simple_return  \n",
       "Date                       \n",
       "2018-07-06            NaN  \n",
       "2018-07-09       0.013885  \n",
       "2018-07-10      -0.001207  \n",
       "2018-07-11      -0.012976  \n",
       "2018-07-12       0.016766  "
      ]
     },
     "execution_count": 7,
     "metadata": {},
     "output_type": "execute_result"
    }
   ],
   "source": [
    "df.head()"
   ]
  },
  {
   "cell_type": "code",
   "execution_count": 8,
   "id": "f618a704",
   "metadata": {},
   "outputs": [
    {
     "data": {
      "text/plain": [
       "<AxesSubplot:xlabel='Date'>"
      ]
     },
     "execution_count": 8,
     "metadata": {},
     "output_type": "execute_result"
    },
    {
     "data": {
      "image/png": "[encoded data removed]",
      "text/plain": [
       "<Figure size 800x500 with 1 Axes>"
      ]
     },
     "metadata": {},
     "output_type": "display_data"
    }
   ],
   "source": [
    "df['simple_return'].plot(figsize=(8,5))"
   ]
  },
  {
   "cell_type": "code",
   "execution_count": 10,
   "id": "33ab3a11",
   "metadata": {},
   "outputs": [
    {
     "data": {
      "text/plain": [
       "0.0013750511370940362"
      ]
     },
     "execution_count": 10,
     "metadata": {},
     "output_type": "execute_result"
    }
   ],
   "source": [
    "avg_return=df['simple_return'].mean()\n",
    "avg_return"
   ]
  },
  {
   "cell_type": "code",
   "execution_count": 11,
   "id": "c02f32a0",
   "metadata": {},
   "outputs": [
    {
     "data": {
      "text/plain": [
       "0.34651288654769713"
      ]
     },
     "execution_count": 11,
     "metadata": {},
     "output_type": "execute_result"
    }
   ],
   "source": [
    "avg_return*252 ## no of days stock market is working "
   ]
  },
  {
   "cell_type": "code",
   "execution_count": 12,
   "id": "69010ec7",
   "metadata": {},
   "outputs": [
    {
     "data": {
      "text/plain": [
       "0.02887607387897476"
      ]
     },
     "execution_count": 12,
     "metadata": {},
     "output_type": "execute_result"
    }
   ],
   "source": [
    "avg_return*252/12 ## yearly return "
   ]
  },
  {
   "cell_type": "code",
   "execution_count": 13,
   "id": "f56857c2",
   "metadata": {},
   "outputs": [],
   "source": [
    "df['log_return']=np.log(df['Adj Close']/df['Adj Close'].shift(1)) ## log return of today price/yesterday price "
   ]
  },
  {
   "cell_type": "code",
   "execution_count": 14,
   "id": "14a09ad8",
   "metadata": {},
   "outputs": [
    {
     "data": {
      "text/html": [
       "<div>\n",
       "<style scoped>\n",
       "    .dataframe tbody tr th:only-of-type {\n",
       "        vertical-align: middle;\n",
       "    }\n",
       "\n",
       "    .dataframe tbody tr th {\n",
       "        vertical-align: top;\n",
       "    }\n",
       "\n",
       "    .dataframe thead th {\n",
       "        text-align: right;\n",
       "    }\n",
       "</style>\n",
       "<table border=\"1\" class=\"dataframe\">\n",
       "  <thead>\n",
       "    <tr style=\"text-align: right;\">\n",
       "      <th></th>\n",
       "      <th>Open</th>\n",
       "      <th>High</th>\n",
       "      <th>Low</th>\n",
       "      <th>Close</th>\n",
       "      <th>Adj Close</th>\n",
       "      <th>Volume</th>\n",
       "      <th>simple_return</th>\n",
       "      <th>log_return</th>\n",
       "    </tr>\n",
       "    <tr>\n",
       "      <th>Date</th>\n",
       "      <th></th>\n",
       "      <th></th>\n",
       "      <th></th>\n",
       "      <th></th>\n",
       "      <th></th>\n",
       "      <th></th>\n",
       "      <th></th>\n",
       "      <th></th>\n",
       "    </tr>\n",
       "  </thead>\n",
       "  <tbody>\n",
       "    <tr>\n",
       "      <th>2018-07-06</th>\n",
       "      <td>46.355000</td>\n",
       "      <td>47.107498</td>\n",
       "      <td>46.299999</td>\n",
       "      <td>46.992500</td>\n",
       "      <td>44.909573</td>\n",
       "      <td>69940800</td>\n",
       "      <td>NaN</td>\n",
       "      <td>NaN</td>\n",
       "    </tr>\n",
       "    <tr>\n",
       "      <th>2018-07-09</th>\n",
       "      <td>47.375000</td>\n",
       "      <td>47.669998</td>\n",
       "      <td>47.325001</td>\n",
       "      <td>47.645000</td>\n",
       "      <td>45.533150</td>\n",
       "      <td>79026400</td>\n",
       "      <td>0.013885</td>\n",
       "      <td>0.013790</td>\n",
       "    </tr>\n",
       "    <tr>\n",
       "      <th>2018-07-10</th>\n",
       "      <td>47.677502</td>\n",
       "      <td>47.820000</td>\n",
       "      <td>47.544998</td>\n",
       "      <td>47.587502</td>\n",
       "      <td>45.478199</td>\n",
       "      <td>63756400</td>\n",
       "      <td>-0.001207</td>\n",
       "      <td>-0.001208</td>\n",
       "    </tr>\n",
       "    <tr>\n",
       "      <th>2018-07-11</th>\n",
       "      <td>47.125000</td>\n",
       "      <td>47.445000</td>\n",
       "      <td>46.902500</td>\n",
       "      <td>46.970001</td>\n",
       "      <td>44.888062</td>\n",
       "      <td>75326000</td>\n",
       "      <td>-0.012976</td>\n",
       "      <td>-0.013061</td>\n",
       "    </tr>\n",
       "    <tr>\n",
       "      <th>2018-07-12</th>\n",
       "      <td>47.382500</td>\n",
       "      <td>47.852501</td>\n",
       "      <td>47.327499</td>\n",
       "      <td>47.757500</td>\n",
       "      <td>45.640663</td>\n",
       "      <td>72164400</td>\n",
       "      <td>0.016766</td>\n",
       "      <td>0.016627</td>\n",
       "    </tr>\n",
       "  </tbody>\n",
       "</table>\n",
       "</div>"
      ],
      "text/plain": [
       "                 Open       High        Low      Close  Adj Close    Volume  \\\n",
       "Date                                                                          \n",
       "2018-07-06  46.355000  47.107498  46.299999  46.992500  44.909573  69940800   \n",
       "2018-07-09  47.375000  47.669998  47.325001  47.645000  45.533150  79026400   \n",
       "2018-07-10  47.677502  47.820000  47.544998  47.587502  45.478199  63756400   \n",
       "2018-07-11  47.125000  47.445000  46.902500  46.970001  44.888062  75326000   \n",
       "2018-07-12  47.382500  47.852501  47.327499  47.757500  45.640663  72164400   \n",
       "\n",
       "            simple_return  log_return  \n",
       "Date                                   \n",
       "2018-07-06            NaN         NaN  \n",
       "2018-07-09       0.013885    0.013790  \n",
       "2018-07-10      -0.001207   -0.001208  \n",
       "2018-07-11      -0.012976   -0.013061  \n",
       "2018-07-12       0.016766    0.016627  "
      ]
     },
     "execution_count": 14,
     "metadata": {},
     "output_type": "execute_result"
    }
   ],
   "source": [
    "df.head()"
   ]
  },
  {
   "cell_type": "code",
   "execution_count": 15,
   "id": "dd76e038",
   "metadata": {},
   "outputs": [
    {
     "data": {
      "text/plain": [
       "<AxesSubplot:xlabel='Date'>"
      ]
     },
     "execution_count": 15,
     "metadata": {},
     "output_type": "execute_result"
    },
    {
     "data": {
      "image/png": "[encoded data removed]",
      "text/plain": [
       "<Figure size 800x500 with 1 Axes>"
      ]
     },
     "metadata": {},
     "output_type": "display_data"
    }
   ],
   "source": [
    "df['log_return'].plot(figsize=(8,5))"
   ]
  },
  {
   "cell_type": "code",
   "execution_count": 17,
   "id": "305bf049",
   "metadata": {},
   "outputs": [
    {
     "data": {
      "text/plain": [
       "0.0011539400678302002"
      ]
     },
     "execution_count": 17,
     "metadata": {},
     "output_type": "execute_result"
    }
   ],
   "source": [
    "log_avg_return=df['log_return'].mean()\n",
    "log_avg_return"
   ]
  },
  {
   "cell_type": "code",
   "execution_count": 18,
   "id": "4a88fe80",
   "metadata": {},
   "outputs": [
    {
     "data": {
      "text/plain": [
       "0.29079289709321043"
      ]
     },
     "execution_count": 18,
     "metadata": {},
     "output_type": "execute_result"
    }
   ],
   "source": [
    "log_avg_return*252 ## no of days stock market is working "
   ]
  },
  {
   "cell_type": "code",
   "execution_count": 19,
   "id": "f4a6f509",
   "metadata": {},
   "outputs": [
    {
     "data": {
      "text/plain": [
       "0.0242327414244342"
      ]
     },
     "execution_count": 19,
     "metadata": {},
     "output_type": "execute_result"
    }
   ],
   "source": [
    "log_avg_return*252/12"
   ]
  },
  {
   "cell_type": "code",
   "execution_count": 20,
   "id": "dc9bdfc9",
   "metadata": {},
   "outputs": [],
   "source": [
    "tickers=['AAPL','MSFT','TSLA','AMZN']"
   ]
  },
  {
   "cell_type": "code",
   "execution_count": 21,
   "id": "e27167e8",
   "metadata": {},
   "outputs": [
    {
     "name": "stdout",
     "output_type": "stream",
     "text": [
      "[*********************100%***********************]  4 of 4 completed\n"
     ]
    }
   ],
   "source": [
    "df=yf.download(tickers,period='5y')"
   ]
  },
  {
   "cell_type": "code",
   "execution_count": 22,
   "id": "26e5293a",
   "metadata": {},
   "outputs": [
    {
     "data": {
      "text/html": [
       "<div>\n",
       "<style scoped>\n",
       "    .dataframe tbody tr th:only-of-type {\n",
       "        vertical-align: middle;\n",
       "    }\n",
       "\n",
       "    .dataframe tbody tr th {\n",
       "        vertical-align: top;\n",
       "    }\n",
       "\n",
       "    .dataframe thead tr th {\n",
       "        text-align: left;\n",
       "    }\n",
       "\n",
       "    .dataframe thead tr:last-of-type th {\n",
       "        text-align: right;\n",
       "    }\n",
       "</style>\n",
       "<table border=\"1\" class=\"dataframe\">\n",
       "  <thead>\n",
       "    <tr>\n",
       "      <th></th>\n",
       "      <th colspan=\"4\" halign=\"left\">Adj Close</th>\n",
       "      <th colspan=\"4\" halign=\"left\">Close</th>\n",
       "      <th colspan=\"2\" halign=\"left\">High</th>\n",
       "      <th>...</th>\n",
       "      <th colspan=\"2\" halign=\"left\">Low</th>\n",
       "      <th colspan=\"4\" halign=\"left\">Open</th>\n",
       "      <th colspan=\"4\" halign=\"left\">Volume</th>\n",
       "    </tr>\n",
       "    <tr>\n",
       "      <th></th>\n",
       "      <th>AAPL</th>\n",
       "      <th>AMZN</th>\n",
       "      <th>MSFT</th>\n",
       "      <th>TSLA</th>\n",
       "      <th>AAPL</th>\n",
       "      <th>AMZN</th>\n",
       "      <th>MSFT</th>\n",
       "      <th>TSLA</th>\n",
       "      <th>AAPL</th>\n",
       "      <th>AMZN</th>\n",
       "      <th>...</th>\n",
       "      <th>MSFT</th>\n",
       "      <th>TSLA</th>\n",
       "      <th>AAPL</th>\n",
       "      <th>AMZN</th>\n",
       "      <th>MSFT</th>\n",
       "      <th>TSLA</th>\n",
       "      <th>AAPL</th>\n",
       "      <th>AMZN</th>\n",
       "      <th>MSFT</th>\n",
       "      <th>TSLA</th>\n",
       "    </tr>\n",
       "    <tr>\n",
       "      <th>Date</th>\n",
       "      <th></th>\n",
       "      <th></th>\n",
       "      <th></th>\n",
       "      <th></th>\n",
       "      <th></th>\n",
       "      <th></th>\n",
       "      <th></th>\n",
       "      <th></th>\n",
       "      <th></th>\n",
       "      <th></th>\n",
       "      <th></th>\n",
       "      <th></th>\n",
       "      <th></th>\n",
       "      <th></th>\n",
       "      <th></th>\n",
       "      <th></th>\n",
       "      <th></th>\n",
       "      <th></th>\n",
       "      <th></th>\n",
       "      <th></th>\n",
       "      <th></th>\n",
       "    </tr>\n",
       "  </thead>\n",
       "  <tbody>\n",
       "    <tr>\n",
       "      <th>2018-07-06</th>\n",
       "      <td>44.909573</td>\n",
       "      <td>85.531502</td>\n",
       "      <td>95.676903</td>\n",
       "      <td>20.593332</td>\n",
       "      <td>46.992500</td>\n",
       "      <td>85.531502</td>\n",
       "      <td>101.160004</td>\n",
       "      <td>20.593332</td>\n",
       "      <td>47.107498</td>\n",
       "      <td>85.763496</td>\n",
       "      <td>...</td>\n",
       "      <td>99.669998</td>\n",
       "      <td>20.133333</td>\n",
       "      <td>46.355000</td>\n",
       "      <td>84.800003</td>\n",
       "      <td>99.889999</td>\n",
       "      <td>20.330000</td>\n",
       "      <td>69940800</td>\n",
       "      <td>53006000</td>\n",
       "      <td>19234600</td>\n",
       "      <td>132982500</td>\n",
       "    </tr>\n",
       "    <tr>\n",
       "      <th>2018-07-09</th>\n",
       "      <td>45.533150</td>\n",
       "      <td>86.950996</td>\n",
       "      <td>96.329506</td>\n",
       "      <td>21.233999</td>\n",
       "      <td>47.645000</td>\n",
       "      <td>86.950996</td>\n",
       "      <td>101.849998</td>\n",
       "      <td>21.233999</td>\n",
       "      <td>47.669998</td>\n",
       "      <td>86.977997</td>\n",
       "      <td>...</td>\n",
       "      <td>101.250000</td>\n",
       "      <td>20.533333</td>\n",
       "      <td>47.375000</td>\n",
       "      <td>86.202499</td>\n",
       "      <td>101.650002</td>\n",
       "      <td>20.799334</td>\n",
       "      <td>79026400</td>\n",
       "      <td>60240000</td>\n",
       "      <td>18212000</td>\n",
       "      <td>113952000</td>\n",
       "    </tr>\n",
       "    <tr>\n",
       "      <th>2018-07-10</th>\n",
       "      <td>45.478203</td>\n",
       "      <td>87.153503</td>\n",
       "      <td>96.584885</td>\n",
       "      <td>21.497999</td>\n",
       "      <td>47.587502</td>\n",
       "      <td>87.153503</td>\n",
       "      <td>102.120003</td>\n",
       "      <td>21.497999</td>\n",
       "      <td>47.820000</td>\n",
       "      <td>87.500000</td>\n",
       "      <td>...</td>\n",
       "      <td>101.860001</td>\n",
       "      <td>21.280001</td>\n",
       "      <td>47.677502</td>\n",
       "      <td>86.926498</td>\n",
       "      <td>102.000000</td>\n",
       "      <td>21.637333</td>\n",
       "      <td>63756400</td>\n",
       "      <td>60058000</td>\n",
       "      <td>19293100</td>\n",
       "      <td>142072500</td>\n",
       "    </tr>\n",
       "    <tr>\n",
       "      <th>2018-07-11</th>\n",
       "      <td>44.888069</td>\n",
       "      <td>87.750000</td>\n",
       "      <td>96.452469</td>\n",
       "      <td>21.264000</td>\n",
       "      <td>46.970001</td>\n",
       "      <td>87.750000</td>\n",
       "      <td>101.980003</td>\n",
       "      <td>21.264000</td>\n",
       "      <td>47.445000</td>\n",
       "      <td>87.848000</td>\n",
       "      <td>...</td>\n",
       "      <td>101.099998</td>\n",
       "      <td>21.004667</td>\n",
       "      <td>47.125000</td>\n",
       "      <td>86.899498</td>\n",
       "      <td>101.150002</td>\n",
       "      <td>21.053333</td>\n",
       "      <td>75326000</td>\n",
       "      <td>64196000</td>\n",
       "      <td>19644600</td>\n",
       "      <td>73261500</td>\n",
       "    </tr>\n",
       "    <tr>\n",
       "      <th>2018-07-12</th>\n",
       "      <td>45.640663</td>\n",
       "      <td>89.831001</td>\n",
       "      <td>98.542679</td>\n",
       "      <td>21.114000</td>\n",
       "      <td>47.757500</td>\n",
       "      <td>89.831001</td>\n",
       "      <td>104.190002</td>\n",
       "      <td>21.114000</td>\n",
       "      <td>47.852501</td>\n",
       "      <td>89.900002</td>\n",
       "      <td>...</td>\n",
       "      <td>102.730003</td>\n",
       "      <td>20.851334</td>\n",
       "      <td>47.382500</td>\n",
       "      <td>88.225502</td>\n",
       "      <td>102.769997</td>\n",
       "      <td>21.428667</td>\n",
       "      <td>72164400</td>\n",
       "      <td>90654000</td>\n",
       "      <td>24335900</td>\n",
       "      <td>85818000</td>\n",
       "    </tr>\n",
       "  </tbody>\n",
       "</table>\n",
       "<p>5 rows × 24 columns</p>\n",
       "</div>"
      ],
      "text/plain": [
       "            Adj Close                                       Close             \\\n",
       "                 AAPL       AMZN       MSFT       TSLA       AAPL       AMZN   \n",
       "Date                                                                           \n",
       "2018-07-06  44.909573  85.531502  95.676903  20.593332  46.992500  85.531502   \n",
       "2018-07-09  45.533150  86.950996  96.329506  21.233999  47.645000  86.950996   \n",
       "2018-07-10  45.478203  87.153503  96.584885  21.497999  47.587502  87.153503   \n",
       "2018-07-11  44.888069  87.750000  96.452469  21.264000  46.970001  87.750000   \n",
       "2018-07-12  45.640663  89.831001  98.542679  21.114000  47.757500  89.831001   \n",
       "\n",
       "                                        High             ...         Low  \\\n",
       "                  MSFT       TSLA       AAPL       AMZN  ...        MSFT   \n",
       "Date                                                     ...               \n",
       "2018-07-06  101.160004  20.593332  47.107498  85.763496  ...   99.669998   \n",
       "2018-07-09  101.849998  21.233999  47.669998  86.977997  ...  101.250000   \n",
       "2018-07-10  102.120003  21.497999  47.820000  87.500000  ...  101.860001   \n",
       "2018-07-11  101.980003  21.264000  47.445000  87.848000  ...  101.099998   \n",
       "2018-07-12  104.190002  21.114000  47.852501  89.900002  ...  102.730003   \n",
       "\n",
       "                            Open                                      Volume  \\\n",
       "                 TSLA       AAPL       AMZN        MSFT       TSLA      AAPL   \n",
       "Date                                                                           \n",
       "2018-07-06  20.133333  46.355000  84.800003   99.889999  20.330000  69940800   \n",
       "2018-07-09  20.533333  47.375000  86.202499  101.650002  20.799334  79026400   \n",
       "2018-07-10  21.280001  47.677502  86.926498  102.000000  21.637333  63756400   \n",
       "2018-07-11  21.004667  47.125000  86.899498  101.150002  21.053333  75326000   \n",
       "2018-07-12  20.851334  47.382500  88.225502  102.769997  21.428667  72164400   \n",
       "\n",
       "                                           \n",
       "                AMZN      MSFT       TSLA  \n",
       "Date                                       \n",
       "2018-07-06  53006000  19234600  132982500  \n",
       "2018-07-09  60240000  18212000  113952000  \n",
       "2018-07-10  60058000  19293100  142072500  \n",
       "2018-07-11  64196000  19644600   73261500  \n",
       "2018-07-12  90654000  24335900   85818000  \n",
       "\n",
       "[5 rows x 24 columns]"
      ]
     },
     "execution_count": 22,
     "metadata": {},
     "output_type": "execute_result"
    }
   ],
   "source": [
    "df.head()"
   ]
  },
  {
   "cell_type": "code",
   "execution_count": 23,
   "id": "f126a656",
   "metadata": {},
   "outputs": [
    {
     "data": {
      "text/html": [
       "<div>\n",
       "<style scoped>\n",
       "    .dataframe tbody tr th:only-of-type {\n",
       "        vertical-align: middle;\n",
       "    }\n",
       "\n",
       "    .dataframe tbody tr th {\n",
       "        vertical-align: top;\n",
       "    }\n",
       "\n",
       "    .dataframe thead th {\n",
       "        text-align: right;\n",
       "    }\n",
       "</style>\n",
       "<table border=\"1\" class=\"dataframe\">\n",
       "  <thead>\n",
       "    <tr style=\"text-align: right;\">\n",
       "      <th></th>\n",
       "      <th>AAPL</th>\n",
       "      <th>AMZN</th>\n",
       "      <th>MSFT</th>\n",
       "      <th>TSLA</th>\n",
       "    </tr>\n",
       "    <tr>\n",
       "      <th>Date</th>\n",
       "      <th></th>\n",
       "      <th></th>\n",
       "      <th></th>\n",
       "      <th></th>\n",
       "    </tr>\n",
       "  </thead>\n",
       "  <tbody>\n",
       "    <tr>\n",
       "      <th>2018-07-06</th>\n",
       "      <td>44.909573</td>\n",
       "      <td>85.531502</td>\n",
       "      <td>95.676903</td>\n",
       "      <td>20.593332</td>\n",
       "    </tr>\n",
       "    <tr>\n",
       "      <th>2018-07-09</th>\n",
       "      <td>45.533150</td>\n",
       "      <td>86.950996</td>\n",
       "      <td>96.329506</td>\n",
       "      <td>21.233999</td>\n",
       "    </tr>\n",
       "    <tr>\n",
       "      <th>2018-07-10</th>\n",
       "      <td>45.478203</td>\n",
       "      <td>87.153503</td>\n",
       "      <td>96.584885</td>\n",
       "      <td>21.497999</td>\n",
       "    </tr>\n",
       "    <tr>\n",
       "      <th>2018-07-11</th>\n",
       "      <td>44.888069</td>\n",
       "      <td>87.750000</td>\n",
       "      <td>96.452469</td>\n",
       "      <td>21.264000</td>\n",
       "    </tr>\n",
       "    <tr>\n",
       "      <th>2018-07-12</th>\n",
       "      <td>45.640663</td>\n",
       "      <td>89.831001</td>\n",
       "      <td>98.542679</td>\n",
       "      <td>21.114000</td>\n",
       "    </tr>\n",
       "  </tbody>\n",
       "</table>\n",
       "</div>"
      ],
      "text/plain": [
       "                 AAPL       AMZN       MSFT       TSLA\n",
       "Date                                                  \n",
       "2018-07-06  44.909573  85.531502  95.676903  20.593332\n",
       "2018-07-09  45.533150  86.950996  96.329506  21.233999\n",
       "2018-07-10  45.478203  87.153503  96.584885  21.497999\n",
       "2018-07-11  44.888069  87.750000  96.452469  21.264000\n",
       "2018-07-12  45.640663  89.831001  98.542679  21.114000"
      ]
     },
     "execution_count": 23,
     "metadata": {},
     "output_type": "execute_result"
    }
   ],
   "source": [
    "df=df['Adj Close']\n",
    "df.head()"
   ]
  },
  {
   "cell_type": "code",
   "execution_count": 24,
   "id": "f7f606cf",
   "metadata": {},
   "outputs": [
    {
     "data": {
      "text/plain": [
       "<AxesSubplot:xlabel='Date'>"
      ]
     },
     "execution_count": 24,
     "metadata": {},
     "output_type": "execute_result"
    },
    {
     "data": {
      "image/png": "[encoded data removed]",
      "text/plain": [
       "<Figure size 1000x400 with 1 Axes>"
      ]
     },
     "metadata": {},
     "output_type": "display_data"
    }
   ],
   "source": [
    "df.plot(figsize=(10,4))"
   ]
  },
  {
   "cell_type": "code",
   "execution_count": 26,
   "id": "4ba0be86",
   "metadata": {},
   "outputs": [
    {
     "data": {
      "text/html": [
       "<div>\n",
       "<style scoped>\n",
       "    .dataframe tbody tr th:only-of-type {\n",
       "        vertical-align: middle;\n",
       "    }\n",
       "\n",
       "    .dataframe tbody tr th {\n",
       "        vertical-align: top;\n",
       "    }\n",
       "\n",
       "    .dataframe thead th {\n",
       "        text-align: right;\n",
       "    }\n",
       "</style>\n",
       "<table border=\"1\" class=\"dataframe\">\n",
       "  <thead>\n",
       "    <tr style=\"text-align: right;\">\n",
       "      <th></th>\n",
       "      <th>AAPL</th>\n",
       "      <th>AMZN</th>\n",
       "      <th>MSFT</th>\n",
       "      <th>TSLA</th>\n",
       "    </tr>\n",
       "    <tr>\n",
       "      <th>Date</th>\n",
       "      <th></th>\n",
       "      <th></th>\n",
       "      <th></th>\n",
       "      <th></th>\n",
       "    </tr>\n",
       "  </thead>\n",
       "  <tbody>\n",
       "    <tr>\n",
       "      <th>2018-07-06</th>\n",
       "      <td>NaN</td>\n",
       "      <td>NaN</td>\n",
       "      <td>NaN</td>\n",
       "      <td>NaN</td>\n",
       "    </tr>\n",
       "    <tr>\n",
       "      <th>2018-07-09</th>\n",
       "      <td>0.013885</td>\n",
       "      <td>0.016596</td>\n",
       "      <td>0.006821</td>\n",
       "      <td>0.031110</td>\n",
       "    </tr>\n",
       "    <tr>\n",
       "      <th>2018-07-10</th>\n",
       "      <td>-0.001207</td>\n",
       "      <td>0.002329</td>\n",
       "      <td>0.002651</td>\n",
       "      <td>0.012433</td>\n",
       "    </tr>\n",
       "    <tr>\n",
       "      <th>2018-07-11</th>\n",
       "      <td>-0.012976</td>\n",
       "      <td>0.006844</td>\n",
       "      <td>-0.001371</td>\n",
       "      <td>-0.010885</td>\n",
       "    </tr>\n",
       "    <tr>\n",
       "      <th>2018-07-12</th>\n",
       "      <td>0.016766</td>\n",
       "      <td>0.023715</td>\n",
       "      <td>0.021671</td>\n",
       "      <td>-0.007054</td>\n",
       "    </tr>\n",
       "    <tr>\n",
       "      <th>...</th>\n",
       "      <td>...</td>\n",
       "      <td>...</td>\n",
       "      <td>...</td>\n",
       "      <td>...</td>\n",
       "    </tr>\n",
       "    <tr>\n",
       "      <th>2023-06-28</th>\n",
       "      <td>0.006328</td>\n",
       "      <td>-0.001084</td>\n",
       "      <td>0.003826</td>\n",
       "      <td>0.024100</td>\n",
       "    </tr>\n",
       "    <tr>\n",
       "      <th>2023-06-29</th>\n",
       "      <td>0.001797</td>\n",
       "      <td>-0.008834</td>\n",
       "      <td>-0.002382</td>\n",
       "      <td>0.004917</td>\n",
       "    </tr>\n",
       "    <tr>\n",
       "      <th>2023-06-30</th>\n",
       "      <td>0.023103</td>\n",
       "      <td>0.019234</td>\n",
       "      <td>0.016386</td>\n",
       "      <td>0.016582</td>\n",
       "    </tr>\n",
       "    <tr>\n",
       "      <th>2023-07-03</th>\n",
       "      <td>-0.007785</td>\n",
       "      <td>-0.001074</td>\n",
       "      <td>-0.007488</td>\n",
       "      <td>0.068954</td>\n",
       "    </tr>\n",
       "    <tr>\n",
       "      <th>2023-07-05</th>\n",
       "      <td>-0.005871</td>\n",
       "      <td>0.001229</td>\n",
       "      <td>0.000473</td>\n",
       "      <td>0.009506</td>\n",
       "    </tr>\n",
       "  </tbody>\n",
       "</table>\n",
       "<p>1257 rows × 4 columns</p>\n",
       "</div>"
      ],
      "text/plain": [
       "                AAPL      AMZN      MSFT      TSLA\n",
       "Date                                              \n",
       "2018-07-06       NaN       NaN       NaN       NaN\n",
       "2018-07-09  0.013885  0.016596  0.006821  0.031110\n",
       "2018-07-10 -0.001207  0.002329  0.002651  0.012433\n",
       "2018-07-11 -0.012976  0.006844 -0.001371 -0.010885\n",
       "2018-07-12  0.016766  0.023715  0.021671 -0.007054\n",
       "...              ...       ...       ...       ...\n",
       "2023-06-28  0.006328 -0.001084  0.003826  0.024100\n",
       "2023-06-29  0.001797 -0.008834 -0.002382  0.004917\n",
       "2023-06-30  0.023103  0.019234  0.016386  0.016582\n",
       "2023-07-03 -0.007785 -0.001074 -0.007488  0.068954\n",
       "2023-07-05 -0.005871  0.001229  0.000473  0.009506\n",
       "\n",
       "[1257 rows x 4 columns]"
      ]
     },
     "execution_count": 26,
     "metadata": {},
     "output_type": "execute_result"
    }
   ],
   "source": [
    "returns=(df/df.shift(1))-1\n",
    "returns"
   ]
  },
  {
   "cell_type": "raw",
   "id": "37414a82",
   "metadata": {},
   "source": [
    "returns.mean()"
   ]
  },
  {
   "cell_type": "code",
   "execution_count": 27,
   "id": "a7f712c9",
   "metadata": {
    "scrolled": true
   },
   "outputs": [
    {
     "data": {
      "text/plain": [
       "AAPL    0.001375\n",
       "AMZN    0.000599\n",
       "MSFT    0.001199\n",
       "TSLA    0.002963\n",
       "dtype: float64"
      ]
     },
     "execution_count": 27,
     "metadata": {},
     "output_type": "execute_result"
    }
   ],
   "source": [
    "returns.mean()"
   ]
  },
  {
   "cell_type": "code",
   "execution_count": 28,
   "id": "b5c3664b",
   "metadata": {},
   "outputs": [
    {
     "data": {
      "text/plain": [
       "AAPL    0.346513\n",
       "AMZN    0.150949\n",
       "MSFT    0.302140\n",
       "TSLA    0.746744\n",
       "dtype: float64"
      ]
     },
     "execution_count": 28,
     "metadata": {},
     "output_type": "execute_result"
    }
   ],
   "source": [
    "returns.mean()*252"
   ]
  },
  {
   "cell_type": "code",
   "execution_count": 32,
   "id": "52fbf318",
   "metadata": {},
   "outputs": [
    {
     "data": {
      "text/html": [
       "<div>\n",
       "<style scoped>\n",
       "    .dataframe tbody tr th:only-of-type {\n",
       "        vertical-align: middle;\n",
       "    }\n",
       "\n",
       "    .dataframe tbody tr th {\n",
       "        vertical-align: top;\n",
       "    }\n",
       "\n",
       "    .dataframe thead th {\n",
       "        text-align: right;\n",
       "    }\n",
       "</style>\n",
       "<table border=\"1\" class=\"dataframe\">\n",
       "  <thead>\n",
       "    <tr style=\"text-align: right;\">\n",
       "      <th></th>\n",
       "      <th>AAPL</th>\n",
       "      <th>AMZN</th>\n",
       "      <th>MSFT</th>\n",
       "      <th>TSLA</th>\n",
       "    </tr>\n",
       "    <tr>\n",
       "      <th>Date</th>\n",
       "      <th></th>\n",
       "      <th></th>\n",
       "      <th></th>\n",
       "      <th></th>\n",
       "    </tr>\n",
       "  </thead>\n",
       "  <tbody>\n",
       "    <tr>\n",
       "      <th>2018-07-06</th>\n",
       "      <td>NaN</td>\n",
       "      <td>NaN</td>\n",
       "      <td>NaN</td>\n",
       "      <td>NaN</td>\n",
       "    </tr>\n",
       "    <tr>\n",
       "      <th>2018-07-09</th>\n",
       "      <td>0.013790</td>\n",
       "      <td>0.016460</td>\n",
       "      <td>0.006798</td>\n",
       "      <td>0.030636</td>\n",
       "    </tr>\n",
       "    <tr>\n",
       "      <th>2018-07-10</th>\n",
       "      <td>-0.001207</td>\n",
       "      <td>0.002326</td>\n",
       "      <td>0.002648</td>\n",
       "      <td>0.012356</td>\n",
       "    </tr>\n",
       "    <tr>\n",
       "      <th>2018-07-11</th>\n",
       "      <td>-0.013061</td>\n",
       "      <td>0.006821</td>\n",
       "      <td>-0.001372</td>\n",
       "      <td>-0.010944</td>\n",
       "    </tr>\n",
       "    <tr>\n",
       "      <th>2018-07-12</th>\n",
       "      <td>0.016627</td>\n",
       "      <td>0.023438</td>\n",
       "      <td>0.021439</td>\n",
       "      <td>-0.007079</td>\n",
       "    </tr>\n",
       "  </tbody>\n",
       "</table>\n",
       "</div>"
      ],
      "text/plain": [
       "                AAPL      AMZN      MSFT      TSLA\n",
       "Date                                              \n",
       "2018-07-06       NaN       NaN       NaN       NaN\n",
       "2018-07-09  0.013790  0.016460  0.006798  0.030636\n",
       "2018-07-10 -0.001207  0.002326  0.002648  0.012356\n",
       "2018-07-11 -0.013061  0.006821 -0.001372 -0.010944\n",
       "2018-07-12  0.016627  0.023438  0.021439 -0.007079"
      ]
     },
     "execution_count": 32,
     "metadata": {},
     "output_type": "execute_result"
    }
   ],
   "source": [
    "log_returns=np.log(df/df.shift(1))\n",
    "log_returns.head()"
   ]
  },
  {
   "cell_type": "code",
   "execution_count": 33,
   "id": "59afc871",
   "metadata": {},
   "outputs": [
    {
     "data": {
      "text/plain": [
       "<AxesSubplot:xlabel='Date'>"
      ]
     },
     "execution_count": 33,
     "metadata": {},
     "output_type": "execute_result"
    },
    {
     "data": {
      "image/png": "[encoded data removed]",
      "text/plain": [
       "<Figure size 1000x300 with 1 Axes>"
      ]
     },
     "metadata": {},
     "output_type": "display_data"
    }
   ],
   "source": [
    "log_returns.plot(figsize=(10,3))"
   ]
  },
  {
   "cell_type": "code",
   "execution_count": 34,
   "id": "c46981f4",
   "metadata": {},
   "outputs": [
    {
     "data": {
      "text/plain": [
       "AAPL    0.001154\n",
       "AMZN    0.000336\n",
       "MSFT    0.001005\n",
       "TSLA    0.002085\n",
       "dtype: float64"
      ]
     },
     "execution_count": 34,
     "metadata": {},
     "output_type": "execute_result"
    }
   ],
   "source": [
    "log_returns.mean()"
   ]
  },
  {
   "cell_type": "code",
   "execution_count": 35,
   "id": "24575b53",
   "metadata": {},
   "outputs": [
    {
     "data": {
      "text/plain": [
       "AAPL    0.290793\n",
       "AMZN    0.084582\n",
       "MSFT    0.253307\n",
       "TSLA    0.525396\n",
       "dtype: float64"
      ]
     },
     "execution_count": 35,
     "metadata": {},
     "output_type": "execute_result"
    }
   ],
   "source": [
    "log_returns.mean()*252"
   ]
  },
  {
   "cell_type": "code",
   "execution_count": 36,
   "id": "be813a51",
   "metadata": {},
   "outputs": [],
   "source": [
    "weights=np.array([.25,.25,.25,.25])"
   ]
  },
  {
   "cell_type": "code",
   "execution_count": 37,
   "id": "4492d58b",
   "metadata": {},
   "outputs": [
    {
     "data": {
      "text/plain": [
       "array([0.25, 0.25, 0.25, 0.25])"
      ]
     },
     "execution_count": 37,
     "metadata": {},
     "output_type": "execute_result"
    }
   ],
   "source": [
    "weights"
   ]
  },
  {
   "cell_type": "code",
   "execution_count": 38,
   "id": "84f45487",
   "metadata": {},
   "outputs": [],
   "source": [
    "annual_returns=log_returns.mean()*252"
   ]
  },
  {
   "cell_type": "code",
   "execution_count": 39,
   "id": "41b3082b",
   "metadata": {},
   "outputs": [
    {
     "data": {
      "text/plain": [
       "AAPL    0.290793\n",
       "AMZN    0.084582\n",
       "MSFT    0.253307\n",
       "TSLA    0.525396\n",
       "dtype: float64"
      ]
     },
     "execution_count": 39,
     "metadata": {},
     "output_type": "execute_result"
    }
   ],
   "source": [
    "annual_returns"
   ]
  },
  {
   "cell_type": "code",
   "execution_count": 40,
   "id": "b954be64",
   "metadata": {},
   "outputs": [
    {
     "data": {
      "text/plain": [
       "28.851945305269854"
      ]
     },
     "execution_count": 40,
     "metadata": {},
     "output_type": "execute_result"
    }
   ],
   "source": [
    "np.dot(annual_returns,weights)*100"
   ]
  },
  {
   "cell_type": "code",
   "execution_count": 41,
   "id": "45807fe3",
   "metadata": {},
   "outputs": [],
   "source": [
    "weights2= np.array([0.5, 0.05,0.15,0.25])"
   ]
  },
  {
   "cell_type": "code",
   "execution_count": 42,
   "id": "f655cfcc",
   "metadata": {},
   "outputs": [
    {
     "data": {
      "text/plain": [
       "31.897056452332635"
      ]
     },
     "execution_count": 42,
     "metadata": {},
     "output_type": "execute_result"
    }
   ],
   "source": [
    "np.dot(annual_returns,weights2)*100"
   ]
  },
  {
   "cell_type": "code",
   "execution_count": null,
   "id": "9415ca42",
   "metadata": {},
   "outputs": [],
   "source": []
  }
 ],
 "metadata": {
  "kernelspec": {
   "display_name": "Python 3 (ipykernel)",
   "language": "python",
   "name": "python3"
  },
  "language_info": {
   "codemirror_mode": {
    "name": "ipython",
    "version": 3
   },
   "file_extension": ".py",
   "mimetype": "text/x-python",
   "name": "python",
   "nbconvert_exporter": "python",
   "pygments_lexer": "ipython3",
   "version": "3.11.4"
  }
 },
 "nbformat": 4,
 "nbformat_minor": 5
}
